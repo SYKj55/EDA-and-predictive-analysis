{
 "cells": [
  {
   "cell_type": "code",
   "execution_count": 1,
   "id": "d391cdb8",
   "metadata": {},
   "outputs": [],
   "source": [
    "import pandas as pd\n",
    "from sklearn.model_selection import train_test_split\n",
    "from sklearn.preprocessing import StandardScaler\n",
    "from sklearn.ensemble import RandomForestRegressor\n",
    "from sklearn.linear_model import LinearRegression\n",
    "from sklearn.metrics import mean_squared_error, r2_score"
   ]
  },
  {
   "cell_type": "code",
   "execution_count": 2,
   "id": "32703ce2",
   "metadata": {},
   "outputs": [],
   "source": [
    "data=pd.read_csv('airquality.csv')"
   ]
  },
  {
   "cell_type": "code",
   "execution_count": 3,
   "id": "11732c51",
   "metadata": {},
   "outputs": [
    {
     "data": {
      "text/html": [
       "<div>\n",
       "<style scoped>\n",
       "    .dataframe tbody tr th:only-of-type {\n",
       "        vertical-align: middle;\n",
       "    }\n",
       "\n",
       "    .dataframe tbody tr th {\n",
       "        vertical-align: top;\n",
       "    }\n",
       "\n",
       "    .dataframe thead th {\n",
       "        text-align: right;\n",
       "    }\n",
       "</style>\n",
       "<table border=\"1\" class=\"dataframe\">\n",
       "  <thead>\n",
       "    <tr style=\"text-align: right;\">\n",
       "      <th></th>\n",
       "      <th>Date</th>\n",
       "      <th>Country</th>\n",
       "      <th>City</th>\n",
       "      <th>Specie</th>\n",
       "      <th>count</th>\n",
       "      <th>min</th>\n",
       "      <th>max</th>\n",
       "      <th>median</th>\n",
       "      <th>variance</th>\n",
       "    </tr>\n",
       "  </thead>\n",
       "  <tbody>\n",
       "    <tr>\n",
       "      <th>0</th>\n",
       "      <td>28-03-2022</td>\n",
       "      <td>SK</td>\n",
       "      <td>Košice</td>\n",
       "      <td>co</td>\n",
       "      <td>92</td>\n",
       "      <td>3.8</td>\n",
       "      <td>10.6</td>\n",
       "      <td>4.9</td>\n",
       "      <td>13.19</td>\n",
       "    </tr>\n",
       "    <tr>\n",
       "      <th>1</th>\n",
       "      <td>03-05-2022</td>\n",
       "      <td>SK</td>\n",
       "      <td>Košice</td>\n",
       "      <td>co</td>\n",
       "      <td>92</td>\n",
       "      <td>3.1</td>\n",
       "      <td>9.9</td>\n",
       "      <td>4.2</td>\n",
       "      <td>5.59</td>\n",
       "    </tr>\n",
       "    <tr>\n",
       "      <th>2</th>\n",
       "      <td>15-05-2022</td>\n",
       "      <td>SK</td>\n",
       "      <td>Košice</td>\n",
       "      <td>co</td>\n",
       "      <td>92</td>\n",
       "      <td>2.9</td>\n",
       "      <td>19.0</td>\n",
       "      <td>3.8</td>\n",
       "      <td>31.46</td>\n",
       "    </tr>\n",
       "    <tr>\n",
       "      <th>3</th>\n",
       "      <td>04-09-2022</td>\n",
       "      <td>SK</td>\n",
       "      <td>Košice</td>\n",
       "      <td>co</td>\n",
       "      <td>92</td>\n",
       "      <td>2.5</td>\n",
       "      <td>8.5</td>\n",
       "      <td>2.9</td>\n",
       "      <td>22.18</td>\n",
       "    </tr>\n",
       "    <tr>\n",
       "      <th>4</th>\n",
       "      <td>13-10-2022</td>\n",
       "      <td>SK</td>\n",
       "      <td>Košice</td>\n",
       "      <td>co</td>\n",
       "      <td>92</td>\n",
       "      <td>2.5</td>\n",
       "      <td>12.8</td>\n",
       "      <td>4.9</td>\n",
       "      <td>37.85</td>\n",
       "    </tr>\n",
       "  </tbody>\n",
       "</table>\n",
       "</div>"
      ],
      "text/plain": [
       "         Date Country    City Specie  count  min   max  median  variance\n",
       "0  28-03-2022      SK  Košice     co     92  3.8  10.6     4.9     13.19\n",
       "1  03-05-2022      SK  Košice     co     92  3.1   9.9     4.2      5.59\n",
       "2  15-05-2022      SK  Košice     co     92  2.9  19.0     3.8     31.46\n",
       "3  04-09-2022      SK  Košice     co     92  2.5   8.5     2.9     22.18\n",
       "4  13-10-2022      SK  Košice     co     92  2.5  12.8     4.9     37.85"
      ]
     },
     "execution_count": 3,
     "metadata": {},
     "output_type": "execute_result"
    }
   ],
   "source": [
    "data.head()"
   ]
  },
  {
   "cell_type": "code",
   "execution_count": 4,
   "id": "a2ae8e3e",
   "metadata": {},
   "outputs": [
    {
     "name": "stdout",
     "output_type": "stream",
     "text": [
      "<class 'pandas.core.frame.DataFrame'>\n",
      "RangeIndex: 1048571 entries, 0 to 1048570\n",
      "Data columns (total 9 columns):\n",
      " #   Column    Non-Null Count    Dtype  \n",
      "---  ------    --------------    -----  \n",
      " 0   Date      1048571 non-null  object \n",
      " 1   Country   1048571 non-null  object \n",
      " 2   City      1048571 non-null  object \n",
      " 3   Specie    1048571 non-null  object \n",
      " 4   count     1048571 non-null  int64  \n",
      " 5   min       1048571 non-null  float64\n",
      " 6   max       1048571 non-null  float64\n",
      " 7   median    1048571 non-null  float64\n",
      " 8   variance  1048571 non-null  float64\n",
      "dtypes: float64(4), int64(1), object(4)\n",
      "memory usage: 72.0+ MB\n"
     ]
    }
   ],
   "source": [
    "data.info()"
   ]
  },
  {
   "cell_type": "code",
   "execution_count": 5,
   "id": "51220670",
   "metadata": {},
   "outputs": [
    {
     "data": {
      "text/plain": [
       "Date        0\n",
       "Country     0\n",
       "City        0\n",
       "Specie      0\n",
       "count       0\n",
       "min         0\n",
       "max         0\n",
       "median      0\n",
       "variance    0\n",
       "dtype: int64"
      ]
     },
     "execution_count": 5,
     "metadata": {},
     "output_type": "execute_result"
    }
   ],
   "source": [
    "data.isnull().sum()"
   ]
  },
  {
   "cell_type": "code",
   "execution_count": 6,
   "id": "b6552a00",
   "metadata": {},
   "outputs": [],
   "source": [
    "data=pd.get_dummies(data,columns=['Country','City'])"
   ]
  },
  {
   "cell_type": "code",
   "execution_count": 7,
   "id": "a30743e3",
   "metadata": {},
   "outputs": [
    {
     "data": {
      "text/html": [
       "<div>\n",
       "<style scoped>\n",
       "    .dataframe tbody tr th:only-of-type {\n",
       "        vertical-align: middle;\n",
       "    }\n",
       "\n",
       "    .dataframe tbody tr th {\n",
       "        vertical-align: top;\n",
       "    }\n",
       "\n",
       "    .dataframe thead th {\n",
       "        text-align: right;\n",
       "    }\n",
       "</style>\n",
       "<table border=\"1\" class=\"dataframe\">\n",
       "  <thead>\n",
       "    <tr style=\"text-align: right;\">\n",
       "      <th></th>\n",
       "      <th>Date</th>\n",
       "      <th>Specie</th>\n",
       "      <th>count</th>\n",
       "      <th>min</th>\n",
       "      <th>max</th>\n",
       "      <th>median</th>\n",
       "      <th>variance</th>\n",
       "      <th>Country_AU</th>\n",
       "      <th>Country_BA</th>\n",
       "      <th>Country_BD</th>\n",
       "      <th>...</th>\n",
       "      <th>City_Yokohama</th>\n",
       "      <th>City_Zabrze</th>\n",
       "      <th>City_Zagreb</th>\n",
       "      <th>City_Zaragoza</th>\n",
       "      <th>City_Zarqa</th>\n",
       "      <th>City_Zenica</th>\n",
       "      <th>City_İzmir</th>\n",
       "      <th>City_İzmit</th>\n",
       "      <th>City_Łódź</th>\n",
       "      <th>City_Ōita</th>\n",
       "    </tr>\n",
       "  </thead>\n",
       "  <tbody>\n",
       "    <tr>\n",
       "      <th>0</th>\n",
       "      <td>28-03-2022</td>\n",
       "      <td>co</td>\n",
       "      <td>92</td>\n",
       "      <td>3.8</td>\n",
       "      <td>10.6</td>\n",
       "      <td>4.9</td>\n",
       "      <td>13.19</td>\n",
       "      <td>0</td>\n",
       "      <td>0</td>\n",
       "      <td>0</td>\n",
       "      <td>...</td>\n",
       "      <td>0</td>\n",
       "      <td>0</td>\n",
       "      <td>0</td>\n",
       "      <td>0</td>\n",
       "      <td>0</td>\n",
       "      <td>0</td>\n",
       "      <td>0</td>\n",
       "      <td>0</td>\n",
       "      <td>0</td>\n",
       "      <td>0</td>\n",
       "    </tr>\n",
       "    <tr>\n",
       "      <th>1</th>\n",
       "      <td>03-05-2022</td>\n",
       "      <td>co</td>\n",
       "      <td>92</td>\n",
       "      <td>3.1</td>\n",
       "      <td>9.9</td>\n",
       "      <td>4.2</td>\n",
       "      <td>5.59</td>\n",
       "      <td>0</td>\n",
       "      <td>0</td>\n",
       "      <td>0</td>\n",
       "      <td>...</td>\n",
       "      <td>0</td>\n",
       "      <td>0</td>\n",
       "      <td>0</td>\n",
       "      <td>0</td>\n",
       "      <td>0</td>\n",
       "      <td>0</td>\n",
       "      <td>0</td>\n",
       "      <td>0</td>\n",
       "      <td>0</td>\n",
       "      <td>0</td>\n",
       "    </tr>\n",
       "    <tr>\n",
       "      <th>2</th>\n",
       "      <td>15-05-2022</td>\n",
       "      <td>co</td>\n",
       "      <td>92</td>\n",
       "      <td>2.9</td>\n",
       "      <td>19.0</td>\n",
       "      <td>3.8</td>\n",
       "      <td>31.46</td>\n",
       "      <td>0</td>\n",
       "      <td>0</td>\n",
       "      <td>0</td>\n",
       "      <td>...</td>\n",
       "      <td>0</td>\n",
       "      <td>0</td>\n",
       "      <td>0</td>\n",
       "      <td>0</td>\n",
       "      <td>0</td>\n",
       "      <td>0</td>\n",
       "      <td>0</td>\n",
       "      <td>0</td>\n",
       "      <td>0</td>\n",
       "      <td>0</td>\n",
       "    </tr>\n",
       "    <tr>\n",
       "      <th>3</th>\n",
       "      <td>04-09-2022</td>\n",
       "      <td>co</td>\n",
       "      <td>92</td>\n",
       "      <td>2.5</td>\n",
       "      <td>8.5</td>\n",
       "      <td>2.9</td>\n",
       "      <td>22.18</td>\n",
       "      <td>0</td>\n",
       "      <td>0</td>\n",
       "      <td>0</td>\n",
       "      <td>...</td>\n",
       "      <td>0</td>\n",
       "      <td>0</td>\n",
       "      <td>0</td>\n",
       "      <td>0</td>\n",
       "      <td>0</td>\n",
       "      <td>0</td>\n",
       "      <td>0</td>\n",
       "      <td>0</td>\n",
       "      <td>0</td>\n",
       "      <td>0</td>\n",
       "    </tr>\n",
       "    <tr>\n",
       "      <th>4</th>\n",
       "      <td>13-10-2022</td>\n",
       "      <td>co</td>\n",
       "      <td>92</td>\n",
       "      <td>2.5</td>\n",
       "      <td>12.8</td>\n",
       "      <td>4.9</td>\n",
       "      <td>37.85</td>\n",
       "      <td>0</td>\n",
       "      <td>0</td>\n",
       "      <td>0</td>\n",
       "      <td>...</td>\n",
       "      <td>0</td>\n",
       "      <td>0</td>\n",
       "      <td>0</td>\n",
       "      <td>0</td>\n",
       "      <td>0</td>\n",
       "      <td>0</td>\n",
       "      <td>0</td>\n",
       "      <td>0</td>\n",
       "      <td>0</td>\n",
       "      <td>0</td>\n",
       "    </tr>\n",
       "  </tbody>\n",
       "</table>\n",
       "<p>5 rows × 415 columns</p>\n",
       "</div>"
      ],
      "text/plain": [
       "         Date Specie  count  min   max  median  variance  Country_AU  \\\n",
       "0  28-03-2022     co     92  3.8  10.6     4.9     13.19           0   \n",
       "1  03-05-2022     co     92  3.1   9.9     4.2      5.59           0   \n",
       "2  15-05-2022     co     92  2.9  19.0     3.8     31.46           0   \n",
       "3  04-09-2022     co     92  2.5   8.5     2.9     22.18           0   \n",
       "4  13-10-2022     co     92  2.5  12.8     4.9     37.85           0   \n",
       "\n",
       "   Country_BA  Country_BD  ...  City_Yokohama  City_Zabrze  City_Zagreb  \\\n",
       "0           0           0  ...              0            0            0   \n",
       "1           0           0  ...              0            0            0   \n",
       "2           0           0  ...              0            0            0   \n",
       "3           0           0  ...              0            0            0   \n",
       "4           0           0  ...              0            0            0   \n",
       "\n",
       "   City_Zaragoza  City_Zarqa  City_Zenica  City_İzmir  City_İzmit  City_Łódź  \\\n",
       "0              0           0            0           0           0          0   \n",
       "1              0           0            0           0           0          0   \n",
       "2              0           0            0           0           0          0   \n",
       "3              0           0            0           0           0          0   \n",
       "4              0           0            0           0           0          0   \n",
       "\n",
       "   City_Ōita  \n",
       "0          0  \n",
       "1          0  \n",
       "2          0  \n",
       "3          0  \n",
       "4          0  \n",
       "\n",
       "[5 rows x 415 columns]"
      ]
     },
     "execution_count": 7,
     "metadata": {},
     "output_type": "execute_result"
    }
   ],
   "source": [
    "data.head()"
   ]
  },
  {
   "cell_type": "code",
   "execution_count": 8,
   "id": "2f8dee09",
   "metadata": {},
   "outputs": [],
   "source": [
    "x=data.drop(columns=['Date','count','Specie'])\n",
    "y=data['count']"
   ]
  },
  {
   "cell_type": "code",
   "execution_count": 9,
   "id": "675bfe81",
   "metadata": {},
   "outputs": [],
   "source": [
    "scaler=StandardScaler()\n",
    "x_scaled = scaler.fit_transform(x)"
   ]
  },
  {
   "cell_type": "code",
   "execution_count": 10,
   "id": "3e80fd82",
   "metadata": {},
   "outputs": [],
   "source": [
    "x_train, x_test, y_train, y_test = train_test_split(x_scaled, y, test_size=0.2, random_state=42)"
   ]
  },
  {
   "cell_type": "code",
   "execution_count": 12,
   "id": "af43cbcc",
   "metadata": {},
   "outputs": [],
   "source": [
    "rfr= RandomForestRegressor()\n",
    "lr = LinearRegression()"
   ]
  },
  {
   "cell_type": "code",
   "execution_count": 13,
   "id": "614ec2d7",
   "metadata": {},
   "outputs": [],
   "source": [
    "lr.fit(x_train,y_train)\n",
    "y_pred_lr=lr.predict(x_test)"
   ]
  },
  {
   "cell_type": "code",
   "execution_count": 14,
   "id": "9ef1325c",
   "metadata": {},
   "outputs": [
    {
     "data": {
      "text/plain": [
       "0.7998054281339109"
      ]
     },
     "execution_count": 14,
     "metadata": {},
     "output_type": "execute_result"
    }
   ],
   "source": [
    "lr.score(x_test,y_test)"
   ]
  },
  {
   "cell_type": "code",
   "execution_count": 15,
   "id": "de6c2376",
   "metadata": {},
   "outputs": [],
   "source": [
    "rmse = mean_squared_error(y_test, y_pred_lr, squared=False)\n",
    "r2 = r2_score(y_test, y_pred_lr)"
   ]
  },
  {
   "cell_type": "code",
   "execution_count": 16,
   "id": "f0795235",
   "metadata": {},
   "outputs": [
    {
     "name": "stdout",
     "output_type": "stream",
     "text": [
      "Root Mean Squared Error (RMSE): 92.87008696288642\n",
      "R-squared value: 0.7998054281339109\n"
     ]
    }
   ],
   "source": [
    "print(\"Root Mean Squared Error (RMSE):\", rmse)\n",
    "print(\"R-squared value:\", r2)"
   ]
  },
  {
   "cell_type": "code",
   "execution_count": null,
   "id": "6b62dee9",
   "metadata": {},
   "outputs": [],
   "source": [
    "rfr.fit(x_train,y_train)\n",
    "y_pred_rfr=rfr.predict(x_test)"
   ]
  }
 ],
 "metadata": {
  "kernelspec": {
   "display_name": "Python 3 (ipykernel)",
   "language": "python",
   "name": "python3"
  },
  "language_info": {
   "codemirror_mode": {
    "name": "ipython",
    "version": 3
   },
   "file_extension": ".py",
   "mimetype": "text/x-python",
   "name": "python",
   "nbconvert_exporter": "python",
   "pygments_lexer": "ipython3",
   "version": "3.10.4"
  }
 },
 "nbformat": 4,
 "nbformat_minor": 5
}
